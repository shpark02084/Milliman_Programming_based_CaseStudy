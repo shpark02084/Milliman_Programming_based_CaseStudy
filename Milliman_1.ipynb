{
  "nbformat": 4,
  "nbformat_minor": 0,
  "metadata": {
    "colab": {
      "name": "Milliman_1.ipynb",
      "provenance": [],
      "collapsed_sections": []
    },
    "kernelspec": {
      "name": "python3",
      "display_name": "Python 3"
    },
    "language_info": {
      "name": "python"
    }
  },
  "cells": [
    {
      "cell_type": "code",
      "source": [
        "from tabulate import tabulate"
      ],
      "metadata": {
        "id": "09cKSjdGW_z7"
      },
      "execution_count": 1,
      "outputs": []
    },
    {
      "cell_type": "code",
      "execution_count": 2,
      "metadata": {
        "id": "wLwycE_fVW4i"
      },
      "outputs": [],
      "source": [
        "#import Table 1 data\n",
        "MemberID = ['100001','100001','100001','100002','100002','100003','100003','100003','100003']\n",
        "YearMo = ['201801', '201802', '201803', '201801', '201802', '201807', '201808', '201809', '201810']\n"
      ]
    },
    {
      "cell_type": "markdown",
      "source": [
        "## a. Write code to output a new table from Table 1 that includes all observations for members with a member month in January 2018. Hint: YearMo is a character variable.\n"
      ],
      "metadata": {
        "id": "s38fORAjjCg7"
      }
    },
    {
      "cell_type": "code",
      "source": [
        "JanMember = [] # Create a list for question a\n",
        "\n",
        "for x in range(0,len(MemberID)):\n",
        "  if YearMo[x] == '201801':\n",
        "    JanMember.append(MemberID[x])\n"
      ],
      "metadata": {
        "id": "WSzLvuWfVmUD"
      },
      "execution_count": 8,
      "outputs": []
    },
    {
      "cell_type": "code",
      "source": [
        "#print table\n",
        "table=[['JanMember','JanMember'],JanMember]\n",
        "print(tabulate(table, headers='firstrow', tablefmt='fancy_grid'))\n"
      ],
      "metadata": {
        "colab": {
          "base_uri": "https://localhost:8080/"
        },
        "id": "rAbhUpLRWKpj",
        "outputId": "3b40b5d6-0b6e-4183-ab43-86b819e13f80"
      },
      "execution_count": 9,
      "outputs": [
        {
          "output_type": "stream",
          "name": "stdout",
          "text": [
            "╒═════════════╤═════════════╕\n",
            "│   JanMember │   JanMember │\n",
            "╞═════════════╪═════════════╡\n",
            "│      100001 │      100002 │\n",
            "╘═════════════╧═════════════╛\n"
          ]
        }
      ]
    },
    {
      "cell_type": "markdown",
      "source": [
        "## b. Write code to output a new table from Table 1 that has one row per member and the count of each member’s member months. Include the resulting output table based on the sample shown above.\n"
      ],
      "metadata": {
        "id": "AMRstJDojF9f"
      }
    },
    {
      "cell_type": "code",
      "source": [
        "EachMember = list(set(MemberID)) # remove repeated data\n",
        "MemberMonths=[]\n"
      ],
      "metadata": {
        "id": "pKtep5_XWwgE"
      },
      "execution_count": 5,
      "outputs": []
    },
    {
      "cell_type": "code",
      "source": [
        "for i in EachMember: \n",
        "  MemberMonths.append(MemberID.count(i)) #Count repeated numbers"
      ],
      "metadata": {
        "id": "s7iDYEvgY01B"
      },
      "execution_count": 6,
      "outputs": []
    },
    {
      "cell_type": "code",
      "source": [
        "MemberMonths"
      ],
      "metadata": {
        "colab": {
          "base_uri": "https://localhost:8080/"
        },
        "id": "U82X3U9uY2FY",
        "outputId": "098abe8a-d05a-4226-cb16-fad26f4ac562"
      },
      "execution_count": 7,
      "outputs": [
        {
          "output_type": "execute_result",
          "data": {
            "text/plain": [
              "[3, 4, 2]"
            ]
          },
          "metadata": {},
          "execution_count": 7
        }
      ]
    },
    {
      "cell_type": "code",
      "source": [
        "#print table\n",
        "table=[EachMember,MemberMonths]\n",
        "print(tabulate(table, headers='firstrow', tablefmt='fancy_grid'))"
      ],
      "metadata": {
        "colab": {
          "base_uri": "https://localhost:8080/"
        },
        "id": "PeQbIItGZqWd",
        "outputId": "7b8a5bcf-1339-4c47-ddf0-9cde477ce259"
      },
      "execution_count": null,
      "outputs": [
        {
          "output_type": "stream",
          "name": "stdout",
          "text": [
            "╒══════════╤══════════╤══════════╕\n",
            "│   100001 │   100002 │   100003 │\n",
            "╞══════════╪══════════╪══════════╡\n",
            "│        3 │        2 │        4 │\n",
            "╘══════════╧══════════╧══════════╛\n"
          ]
        }
      ]
    },
    {
      "cell_type": "markdown",
      "source": [
        "##c. Write code to output a new table from Table 1 that has one row for each month in 2018 and counts the number of members who are active in that month. Include the resulting output table based on the sample shown above.\n"
      ],
      "metadata": {
        "id": "XGkr5H53jbpQ"
      }
    },
    {
      "cell_type": "code",
      "source": [
        "EachMonths = ['201801','201802','201803','201804','201805','201806','201807','201808','201809','201810','201811','201812']\n",
        "CountMembers = []\n",
        "for i in EachMonths:\n",
        "  CountMembers.append(YearMo.count(i))\n",
        "CountMembers"
      ],
      "metadata": {
        "colab": {
          "base_uri": "https://localhost:8080/"
        },
        "id": "tDddk98Ia2Lu",
        "outputId": "5fb03caa-f6bc-4c29-d856-86b7ed0108b2"
      },
      "execution_count": 12,
      "outputs": [
        {
          "output_type": "execute_result",
          "data": {
            "text/plain": [
              "[2, 2, 1, 0, 0, 0, 1, 1, 1, 1, 0, 0]"
            ]
          },
          "metadata": {},
          "execution_count": 12
        }
      ]
    },
    {
      "cell_type": "code",
      "source": [
        "#print table\n",
        "table=[EachMonths,CountMembers]\n",
        "print(tabulate(table, headers='firstrow', tablefmt='fancy_grid'))"
      ],
      "metadata": {
        "colab": {
          "base_uri": "https://localhost:8080/"
        },
        "id": "AiHCmyfqbtMr",
        "outputId": "cb23ec17-32f2-4271-c0ab-46ca4e75d522"
      },
      "execution_count": 13,
      "outputs": [
        {
          "output_type": "stream",
          "name": "stdout",
          "text": [
            "╒══════════╤══════════╤══════════╤══════════╤══════════╤══════════╤══════════╤══════════╤══════════╤══════════╤══════════╤══════════╕\n",
            "│   201801 │   201802 │   201803 │   201804 │   201805 │   201806 │   201807 │   201808 │   201809 │   201810 │   201811 │   201812 │\n",
            "╞══════════╪══════════╪══════════╪══════════╪══════════╪══════════╪══════════╪══════════╪══════════╪══════════╪══════════╪══════════╡\n",
            "│        2 │        2 │        1 │        0 │        0 │        0 │        1 │        1 │        1 │        1 │        0 │        0 │\n",
            "╘══════════╧══════════╧══════════╧══════════╧══════════╧══════════╧══════════╧══════════╧══════════╧══════════╧══════════╧══════════╛\n"
          ]
        }
      ]
    }
  ]
}
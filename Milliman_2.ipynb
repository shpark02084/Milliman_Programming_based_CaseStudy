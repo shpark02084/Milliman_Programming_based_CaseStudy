{
  "nbformat": 4,
  "nbformat_minor": 0,
  "metadata": {
    "colab": {
      "name": "Milliman_2.ipynb",
      "provenance": []
    },
    "kernelspec": {
      "name": "python3",
      "display_name": "Python 3"
    },
    "language_info": {
      "name": "python"
    }
  },
  "cells": [
    {
      "cell_type": "code",
      "source": [
        "import datetime   \n",
        "import tabulate"
      ],
      "metadata": {
        "id": "anl2UxNRQAlx"
      },
      "execution_count": 89,
      "outputs": []
    },
    {
      "cell_type": "code",
      "execution_count": 90,
      "metadata": {
        "id": "ShKkfXoMPibA"
      },
      "outputs": [],
      "source": [
        "#import Table 2 data\n",
        "\n",
        "\n",
        "MemberID = ['100001','100002','100003','100004','100004','100005','100006','100007','100007']\n",
        "AdmissionID = ['1256', '3965', '5869', '9396', '0684', '3859', '1849', '3498', '1350']\n",
        "Sex = ['M', 'F', 'F', 'M', 'F', 'F', 'M', 'M', 'M']\n",
        "AdmissionDate = [datetime.date(2018,1,1), datetime.date(2018,2,28), datetime.date(2018,3,14), datetime.date(2018,3,20), datetime.date(2018,6,3), datetime.date(2018,10,29), datetime.date(2018,7,12), datetime.date(2018,1,2), datetime.date(2018,8,4)]\n",
        "DischargeDate = [datetime.date(2018,1,4), datetime.date(2018,3,15), datetime.date(2018,4,15), datetime.date(2018,4,1), datetime.date(2018,6,30), datetime.date(2018,11,15), datetime.date(2018,7,20), datetime.date(2018,1,15), datetime.date(2018,8,16)]\n",
        "DRG = ['061', '291', '349', '292', '293', '291', '543', '470', '471']\n"
      ]
    },
    {
      "cell_type": "markdown",
      "source": [
        "# a. Describe the steps you would take to review and clean this dataset for any data errors or inconsistencies.\n",
        "\n",
        "Since February 2018 has only 28 dates, AdmissionDate for MemberID '100002' should change to 2/28/2018\n",
        "\n",
        "Make a string type for MemberID, AdmissionID, Sex, and DRG.\n",
        "Make a datetime type for AdmissionDate and DischargeDate.\n",
        "\n",
        "\n"
      ],
      "metadata": {
        "id": "u_SMHdYNSiNK"
      }
    },
    {
      "cell_type": "markdown",
      "source": [
        "# b.\tWrite code to output a new table from Table 2 that only includes admissions that end before June 30, 2018. How many admissions in the Table 2 excerpt would be included in the new table?\n"
      ],
      "metadata": {
        "id": "DhPLCht3S3xr"
      }
    },
    {
      "cell_type": "code",
      "source": [
        "table =[[\"MemberID\",\"AdmissionID\",\"Sex\",\"AdmissionDate\",\"DischargeDate\",\"DRG\"]]\n",
        "for i in range(0,len(MemberID)):\n",
        "  if AdmissionDate[i] <datetime.date(2018,6,30):\n",
        "    row = [MemberID[i],AdmissionID[i],Sex[i],AdmissionDate[i].strftime(\"%m/%d/%Y\"),DischargeDate[i].strftime(\"%m/%d/%Y\"),DRG[i]]\n",
        "    table.append(row)\n"
      ],
      "metadata": {
        "id": "1_62rLjxSHUC"
      },
      "execution_count": 91,
      "outputs": []
    },
    {
      "cell_type": "code",
      "source": [
        "table"
      ],
      "metadata": {
        "colab": {
          "base_uri": "https://localhost:8080/"
        },
        "id": "fKob8StjUeYF",
        "outputId": "f01bf9ad-2d46-4dbf-bccb-46c9db9d519b"
      },
      "execution_count": 92,
      "outputs": [
        {
          "output_type": "execute_result",
          "data": {
            "text/plain": [
              "[['MemberID', 'AdmissionID', 'Sex', 'AdmissionDate', 'DischargeDate', 'DRG'],\n",
              " ['100001', '1256', 'M', '01/01/2018', '01/04/2018', '061'],\n",
              " ['100002', '3965', 'F', '02/28/2018', '03/15/2018', '291'],\n",
              " ['100003', '5869', 'F', '03/14/2018', '04/15/2018', '349'],\n",
              " ['100004', '9396', 'M', '03/20/2018', '04/01/2018', '292'],\n",
              " ['100004', '0684', 'F', '06/03/2018', '06/30/2018', '293'],\n",
              " ['100007', '3498', 'M', '01/02/2018', '01/15/2018', '470']]"
            ]
          },
          "metadata": {},
          "execution_count": 92
        }
      ]
    },
    {
      "cell_type": "markdown",
      "source": [
        "# c. Write code to output the number of unique members in this dataset.\n"
      ],
      "metadata": {
        "id": "C7AuBTNlWw2j"
      }
    },
    {
      "cell_type": "code",
      "source": [
        "EachMember = list(set(MemberID))\n",
        "UniqueMembers=[]\n",
        "MemberCount=[]\n",
        "for i in EachMember:\n",
        "  MemberCount.append(MemberID.count(i))\n"
      ],
      "metadata": {
        "id": "XiE4tvyyU-OJ"
      },
      "execution_count": 93,
      "outputs": []
    },
    {
      "cell_type": "code",
      "source": [
        "for i in range(0,len(EachMember)):\n",
        "  if MemberCount[i] ==1:\n",
        "    UniqueMembers.append(EachMember[i])\n"
      ],
      "metadata": {
        "id": "wPmJAfCfVKN1"
      },
      "execution_count": 94,
      "outputs": []
    },
    {
      "cell_type": "code",
      "source": [
        "UniqueMembers, len(UniqueMembers)"
      ],
      "metadata": {
        "colab": {
          "base_uri": "https://localhost:8080/"
        },
        "id": "Z4kLBFNbVKp9",
        "outputId": "78526d8c-e61c-4bae-a4c7-a51c724b7371"
      },
      "execution_count": 95,
      "outputs": [
        {
          "output_type": "execute_result",
          "data": {
            "text/plain": [
              "(['100001', '100003', '100006', '100002', '100005'], 5)"
            ]
          },
          "metadata": {},
          "execution_count": 95
        }
      ]
    },
    {
      "cell_type": "markdown",
      "source": [
        "There are 5 unique members"
      ],
      "metadata": {
        "id": "GahKZkaeYior"
      }
    },
    {
      "cell_type": "markdown",
      "source": [
        "# d. You are asked to identify all admissions for heart failure in this dataset. Heart failure admissions are identified as those with DRGs 291, 292, or 293. Write code to output a table that only contains the heart failure admissions. How many admissions in the Table 2 excerpt would be included in the new table? How many unique members in the Table 2 excerpt would be included in the new table?"
      ],
      "metadata": {
        "id": "chOC67bBYmJJ"
      }
    },
    {
      "cell_type": "code",
      "source": [
        "HFA = ['291','292','293']\n",
        "HFAList =[[\"MemberID\",\"AdmissionID\",\"Sex\",\"AdmissionDate\",\"DischargeDate\",\"DRG\"]]\n",
        "for i in range(0,len(MemberID)):\n",
        "  for x in HFA:\n",
        "    if x ==DRG[i]:\n",
        "      row = [MemberID[i],AdmissionID[i],Sex[i],AdmissionDate[i].strftime(\"%m/%d/%Y\"),DischargeDate[i].strftime(\"%m/%d/%Y\"),DRG[i]]\n",
        "      HFAList.append(row)\n"
      ],
      "metadata": {
        "id": "nr7uwrqZZq0z"
      },
      "execution_count": 96,
      "outputs": []
    },
    {
      "cell_type": "code",
      "source": [
        "HFAList"
      ],
      "metadata": {
        "colab": {
          "base_uri": "https://localhost:8080/"
        },
        "id": "X7UrBxi0Zw0u",
        "outputId": "85acd575-5ac6-4c98-f803-66706ba606e7"
      },
      "execution_count": 97,
      "outputs": [
        {
          "output_type": "execute_result",
          "data": {
            "text/plain": [
              "[['MemberID', 'AdmissionID', 'Sex', 'AdmissionDate', 'DischargeDate', 'DRG'],\n",
              " ['100002', '3965', 'F', '02/28/2018', '03/15/2018', '291'],\n",
              " ['100004', '9396', 'M', '03/20/2018', '04/01/2018', '292'],\n",
              " ['100004', '0684', 'F', '06/03/2018', '06/30/2018', '293'],\n",
              " ['100005', '3859', 'F', '10/29/2018', '11/15/2018', '291']]"
            ]
          },
          "metadata": {},
          "execution_count": 97
        }
      ]
    },
    {
      "cell_type": "markdown",
      "source": [
        "There are four admissions, MemberID '100002' and '100005' are unique."
      ],
      "metadata": {
        "id": "cakFbdq0bcQC"
      }
    }
  ]
}
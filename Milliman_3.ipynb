{
  "nbformat": 4,
  "nbformat_minor": 0,
  "metadata": {
    "colab": {
      "name": "Milliman_3.ipynb",
      "provenance": []
    },
    "kernelspec": {
      "name": "python3",
      "display_name": "Python 3"
    },
    "language_info": {
      "name": "python"
    }
  },
  "cells": [
    {
      "cell_type": "markdown",
      "source": [
        "## 3.\tYou are given the following table of medical claims and SAS/SQL code. Describe in a few bullets what the code does and include the resulting output table. If you are not familiar with SAS or SQL, take your best guess based on the language in the code.\n",
        "\n",
        "1.   Extract Inpatient Members from the table\n",
        "2.   Set diabetes_flag as 1 if Inpaient Member has icd_10_dx of A2359Y” or ”A1245K\n",
        "3.   Get Total cost by adding cost_1 and cost_2\n",
        "4.   Build a table3_ip with those data\n",
        "\n"
      ],
      "metadata": {
        "id": "GB_rtQNUhCUe"
      }
    },
    {
      "cell_type": "code",
      "source": [
        ""
      ],
      "metadata": {
        "id": "XNLbu45wg__M"
      },
      "execution_count": null,
      "outputs": []
    }
  ]
}